{
 "metadata": {
  "language_info": {
   "codemirror_mode": {
    "name": "ipython",
    "version": 3
   },
   "file_extension": ".py",
   "mimetype": "text/x-python",
   "name": "python",
   "nbconvert_exporter": "python",
   "pygments_lexer": "ipython3",
   "version": "3.8.2-final"
  },
  "orig_nbformat": 2,
  "kernelspec": {
   "name": "python3",
   "display_name": "Python 3.8.2 64-bit",
   "metadata": {
    "interpreter": {
     "hash": "20bf69066c0dd38d51965b69d5e1b6e387082e3198ba56e97997ac55f4e50ad0"
    }
   }
  }
 },
 "nbformat": 4,
 "nbformat_minor": 2,
 "cells": [
  {
   "source": [
    "import requests\n",
    "\n",
    "url = \"https://api.upbit.com/v1/market/all\"\n",
    "\n",
    "querystring = {\"isDetails\":\"false\"}\n",
    "\n",
    "response = requests.request(\"GET\", url, params=querystring)\n",
    "\n",
    "print(response.json())"
   ],
   "cell_type": "code",
   "metadata": {
    "tags": [
     "outputPrepend"
    ]
   },
   "execution_count": 2,
   "outputs": [
    {
     "output_type": "stream",
     "name": "stdout",
     "text": [
      "{'market': 'BTC-ADX', 'korean_name': '애드엑스', 'english_name': 'AdEx'}, {'market': 'BTC-SYS', 'korean_name': '시스코인', 'english_name': 'SysCoin'}, {'market': 'BTC-ANT', 'korean_name': '아라곤', 'english_name': 'Aragon'}, {'market': 'BTC-STORJ', 'korean_name': '스토리지', 'english_name': 'Storj'}, {'market': 'BTC-GRS', 'korean_name': '그로스톨코인', 'english_name': 'Groestlcoin'}, {'market': 'BTC-REP', 'korean_name': '어거', 'english_name': 'Augur'}, {'market': 'BTC-RLC', 'korean_name': '아이젝', 'english_name': 'iEx.ec'}, {'market': 'BTC-EMC2', 'korean_name': '아인스타이늄', 'english_name': 'Einsteinium'}, {'market': 'USDT-BTC', 'korean_name': '비트코인', 'english_name': 'Bitcoin'}, {'market': 'USDT-ETH', 'korean_name': '이더리움', 'english_name': 'Ethereum'}, {'market': 'USDT-LTC', 'korean_name': '라이트코인', 'english_name': 'Litecoin'}, {'market': 'USDT-XRP', 'korean_name': '리플', 'english_name': 'Ripple'}, {'market': 'USDT-ETC', 'korean_name': '이더리움클래식', 'english_name': 'Ethereum Classic'}, {'market': 'KRW-NEO', 'korean_name': '네오', 'english_name': 'NEO'}, {'market': 'KRW-MTL', 'korean_name': '메탈', 'english_name': 'Metal'}, {'market': 'KRW-LTC', 'korean_name': '라이트코인', 'english_name': 'Litecoin'}, {'market': 'KRW-XRP', 'korean_name': '리플', 'english_name': 'Ripple'}, {'market': 'KRW-ETC', 'korean_name': '이더리움클래식', 'english_name': 'Ethereum Classic'}, {'market': 'KRW-OMG', 'korean_name': '오미세고', 'english_name': 'OmiseGo'}, {'market': 'KRW-SNT', 'korean_name': '스테이터스네트워크토큰', 'english_name': 'Status Network Token'}, {'market': 'KRW-WAVES', 'korean_name': '웨이브', 'english_name': 'Waves'}, {'market': 'KRW-XEM', 'korean_name': '넴', 'english_name': 'NEM'}, {'market': 'KRW-QTUM', 'korean_name': '퀀텀', 'english_name': 'Qtum'}, {'market': 'KRW-LSK', 'korean_name': '리스크', 'english_name': 'Lisk'}, {'market': 'KRW-STEEM', 'korean_name': '스팀', 'english_name': 'Steem'}, {'market': 'KRW-XLM', 'korean_name': '스텔라루멘', 'english_name': 'Lumen'}, {'market': 'KRW-ARDR', 'korean_name': '아더', 'english_name': 'Ardor'}, {'market': 'KRW-KMD', 'korean_name': '코모도', 'english_name': 'Komodo'}, {'market': 'KRW-ARK', 'korean_name': '아크', 'english_name': 'Ark'}, {'market': 'KRW-STORJ', 'korean_name': '스토리지', 'english_name': 'Storj'}, {'market': 'KRW-GRS', 'korean_name': '그로스톨코인', 'english_name': 'Groestlcoin'}, {'market': 'KRW-REP', 'korean_name': '어거', 'english_name': 'Augur'}, {'market': 'KRW-EMC2', 'korean_name': '아인스타이늄', 'english_name': 'Einsteinium'}, {'market': 'KRW-ADA', 'korean_name': '에이다', 'english_name': 'Ada'}, {'market': 'BTC-ADA', 'korean_name': '에이다', 'english_name': 'Ada'}, {'market': 'BTC-MANA', 'korean_name': '디센트럴랜드', 'english_name': 'Decentraland'}, {'market': 'USDT-OMG', 'korean_name': '오미세고', 'english_name': 'OmiseGo'}, {'market': 'KRW-SBD', 'korean_name': '스팀달러', 'english_name': 'SteemDollars'}, {'market': 'BTC-SBD', 'korean_name': '스팀달러', 'english_name': 'SteemDollars'}, {'market': 'BTC-RCN', 'korean_name': '리피오크레딧네트워크', 'english_name': 'Ripio Credit Network'}, {'market': 'BTC-VIB', 'korean_name': '바이버레이트', 'english_name': 'Viberate'}, {'market': 'KRW-POWR', 'korean_name': '파워렛저', 'english_name': 'Power ledger'}, {'market': 'BTC-POWR', 'korean_name': '파워렛저', 'english_name': 'Power ledger'}, {'market': 'KRW-BTG', 'korean_name': '비트코인골드', 'english_name': 'Bitcoin Gold'}, {'market': 'USDT-ADA', 'korean_name': '에이다', 'english_name': 'Ada'}, {'market': 'BTC-DNT', 'korean_name': '디스트릭트0x', 'english_name': 'district0x'}, {'market': 'BTC-IGNIS', 'korean_name': '이그니스', 'english_name': 'Ignis'}, {'market': 'BTC-SRN', 'korean_name': '시린토큰', 'english_name': 'Sirin Token'}, {'market': 'BTC-ZRX', 'korean_name': '제로엑스', 'english_name': '0x Protocol'}, {'market': 'BTC-TRX', 'korean_name': '트론', 'english_name': 'TRON'}, {'market': 'BTC-TUSD', 'korean_name': '트루USD', 'english_name': 'TrueUSD'}, {'market': 'BTC-LRC', 'korean_name': '루프링', 'english_name': 'Loopring'}, {'market': 'KRW-ICX', 'korean_name': '아이콘', 'english_name': 'Icon'}, {'market': 'KRW-EOS', 'korean_name': '이오스', 'english_name': 'EOS'}, {'market': 'BTC-DMT', 'korean_name': '디마켓', 'english_name': 'DMarket'}, {'market': 'USDT-TUSD', 'korean_name': '트루USD', 'english_name': 'TrueUSD'}, {'market': 'KRW-TRX', 'korean_name': '트론', 'english_name': 'TRON'}, {'market': 'BTC-POLY', 'korean_name': '폴리매쓰', 'english_name': 'Polymath'}, {'market': 'BTC-PRO', 'korean_name': '프로피', 'english_name': 'Propy'}, {'market': 'USDT-SC', 'korean_name': '시아코인', 'english_name': 'Siacoin'}, {'market': 'USDT-TRX', 'korean_name': '트론', 'english_name': 'TRON'}, {'market': 'KRW-SC', 'korean_name': '시아코인', 'english_name': 'Siacoin'}, {'market': 'KRW-GTO', 'korean_name': '기프토', 'english_name': 'Gifto'}, {'market': 'KRW-IGNIS', 'korean_name': '이그니스', 'english_name': 'Ignis'}, {'market': 'KRW-ONT', 'korean_name': '온톨로지', 'english_name': 'Ontology'}, {'market': 'KRW-ZIL', 'korean_name': '질리카', 'english_name': 'Zilliqa'}, {'market': 'BTC-GTO', 'korean_name': '기프토', 'english_name': 'Gifto'}, {'market': 'KRW-POLY', 'korean_name': '폴리매쓰', 'english_name': 'Polymath'}, {'market': 'KRW-ZRX', 'korean_name': '제로엑스', 'english_name': '0x Protocol'}, {'market': 'KRW-SRN', 'korean_name': '시린토큰', 'english_name': 'Sirin Token'}, {'market': 'KRW-LOOM', 'korean_name': '룸네트워크', 'english_name': 'Loom Network'}, {'market': 'BTC-BCH', 'korean_name': '비트코인캐시', 'english_name': 'Bitcoin Cash'}, {'market': 'USDT-BCH', 'korean_name': '비트코인캐시', 'english_name': 'Bitcoin Cash'}, {'market': 'KRW-BCH', 'korean_name': '비트코인캐시', 'english_name': 'Bitcoin Cash'}, {'market': 'BTC-MFT', 'korean_name': '메인프레임', 'english_name': 'Mainframe'}, {'market': 'BTC-LOOM', 'korean_name': '룸네트워크', 'english_name': 'Loom Network'}, {'market': 'KRW-ADX', 'korean_name': '애드엑스', 'english_name': 'AdEx'}, {'market': 'KRW-BAT', 'korean_name': '베이직어텐션토큰', 'english_name': 'Basic Attention Token'}, {'market': 'KRW-IOST', 'korean_name': '아이오에스티', 'english_name': 'IOST'}, {'market': 'BTC-RFR', 'korean_name': '리퍼리움', 'english_name': 'Refereum'}, {'market': 'KRW-DMT', 'korean_name': '디마켓', 'english_name': 'DMarket'}, {'market': 'KRW-RFR', 'korean_name': '리퍼리움', 'english_name': 'Refereum'}, {'market': 'USDT-DGB', 'korean_name': '디지바이트', 'english_name': 'DigiByte'}, {'market': 'KRW-CVC', 'korean_name': '시빅', 'english_name': 'Civic'}, {'market': 'KRW-IQ', 'korean_name': '에브리피디아', 'english_name': 'Everipedia'}, {'market': 'KRW-IOTA', 'korean_name': '아이오타', 'english_name': 'IOTA'}, {'market': 'KRW-OST', 'korean_name': '오에스티', 'english_name': 'OST'}, {'market': 'BTC-RVN', 'korean_name': '레이븐코인', 'english_name': 'Ravencoin'}, {'market': 'BTC-BFT', 'korean_name': '비에프토큰', 'english_name': 'BnkToTheFuture'}, {'market': 'BTC-GO', 'korean_name': '고체인', 'english_name': 'GoChain'}, {'market': 'BTC-UPP', 'korean_name': '센티넬프로토콜', 'english_name': 'Sentinel Protocol'}, {'market': 'BTC-ENJ', 'korean_name': '엔진코인', 'english_name': 'Enjin'}, {'market': 'KRW-MFT', 'korean_name': '메인프레임', 'english_name': 'Mainframe'}, {'market': 'BTC-DTA', 'korean_name': '데이터', 'english_name': 'DATA'}, {'market': 'BTC-EDR', 'korean_name': '엔도르', 'english_name': 'Endor'}, {'market': 'KRW-ONG', 'korean_name': '온톨로지가스', 'english_name': 'ONG'}, {'market': 'KRW-GAS', 'korean_name': '가스', 'english_name': 'GAS'}, {'market': 'BTC-MTL', 'korean_name': '메탈', 'english_name': 'Metal'}, {'market': 'KRW-UPP', 'korean_name': '센티넬프로토콜', 'english_name': 'Sentinel Protocol'}, {'market': 'KRW-ELF', 'korean_name': '엘프', 'english_name': 'aelf'}, {'market': 'BTC-PMA', 'korean_name': '퓨마페이', 'english_name': 'PumaPay'}, {'market': 'USDT-DOGE', 'korean_name': '도지코인', 'english_name': 'Dogecoin'}, {'market': 'USDT-ZRX', 'korean_name': '제로엑스', 'english_name': '0x Protocol'}, {'market': 'USDT-RVN', 'korean_name': '레이븐코인', 'english_name': 'Ravencoin'}, {'market': 'USDT-BAT', 'korean_name': '베이직어텐션토큰', 'english_name': 'Basic Attention Token'}, {'market': 'KRW-KNC', 'korean_name': '카이버네트워크', 'english_name': 'Kyber Network'}, {'market': 'BTC-PAX', 'korean_name': '팩소스스탠다드', 'english_name': 'Paxos Standard'}, {'market': 'BTC-MOC', 'korean_name': '모스코인', 'english_name': 'Moss Coin'}, {'market': 'BTC-NPXS', 'korean_name': '펀디엑스', 'english_name': 'Pundi X'}, {'market': 'BTC-ZIL', 'korean_name': '질리카', 'english_name': 'Zilliqa'}, {'market': 'BTC-OST', 'korean_name': '오에스티', 'english_name': 'OST'}, {'market': 'KRW-BSV', 'korean_name': '비트코인에스브이', 'english_name': 'Bitcoin SV'}, {'market': 'BTC-BSV', 'korean_name': '비트코인에스브이', 'english_name': 'Bitcoin SV'}, {'market': 'BTC-IOST', 'korean_name': '아이오에스티', 'english_name': 'IOST'}, {'market': 'KRW-THETA', 'korean_name': '쎄타토큰', 'english_name': 'Theta Token'}, {'market': 'BTC-NCASH', 'korean_name': '뉴클리어스비전', 'english_name': 'Nucleus Vision'}, {'market': 'KRW-EDR', 'korean_name': '엔도르', 'english_name': 'Endor'}, {'market': 'BTC-DENT', 'korean_name': '덴트', 'english_name': 'Dent'}, {'market': 'KRW-QKC', 'korean_name': '쿼크체인', 'english_name': 'QuarkChain'}, {'market': 'BTC-BTM', 'korean_name': '바이텀', 'english_name': 'Bytom'}, {'market': 'BTC-ELF', 'korean_name': '엘프', 'english_name': 'aelf'}, {'market': 'KRW-BTT', 'korean_name': '비트토렌트', 'english_name': 'BitTorrent'}, {'market': 'BTC-BTT', 'korean_name': '비트토렌트', 'english_name': 'BitTorrent'}, {'market': 'BTC-VITE', 'korean_name': '비트토큰', 'english_name': 'Vite'}, {'market': 'BTC-IOTX', 'korean_name': '아이오텍스', 'english_name': 'IoTeX'}, {'market': 'BTC-SOLVE', 'korean_name': '솔브케어', 'english_name': 'Solve.Care'}, {'market': 'BTC-NKN', 'korean_name': '엔케이엔', 'english_name': 'NKN'}, {'market': 'BTC-QNT', 'korean_name': '퀀트', 'english_name': 'Quant'}, {'market': 'BTC-CTXC', 'korean_name': '코르텍스', 'english_name': 'Cortex'}, {'market': 'BTC-SPND', 'korean_name': '스펜드코인', 'english_name': 'Spendcoin'}, {'market': 'BTC-META', 'korean_name': '메타디움', 'english_name': 'Metadium'}, {'market': 'KRW-MOC', 'korean_name': '모스코인', 'english_name': 'Moss Coin'}, {'market': 'BTC-ANKR', 'korean_name': '앵커', 'english_name': 'Ankr'}, {'market': 'BTC-CRO', 'korean_name': '크립토닷컴체인', 'english_name': 'Crypto.com Chain'}, {'market': 'KRW-ENJ', 'korean_name': '엔진코인', 'english_name': 'Enjin'}, {'market': 'KRW-TFUEL', 'korean_name': '쎄타퓨엘', 'english_name': 'Theta Fuel'}, {'market': 'BTC-BTS', 'korean_name': '비트쉐어', 'english_name': 'BitShares'}, {'market': 'BTC-FSN', 'korean_name': '퓨전', 'english_name': 'Fusion'}, {'market': 'KRW-MANA', 'korean_name': '디센트럴랜드', 'english_name': 'Decentraland'}, {'market': 'KRW-ANKR', 'korean_name': '앵커', 'english_name': 'Ankr'}, {'market': 'BTC-ORBS', 'korean_name': '오브스', 'english_name': 'Orbs'}, {'market': 'KRW-NPXS', 'korean_name': '펀디엑스', 'english_name': 'Pundi X'}, {'market': 'BTC-AERGO', 'korean_name': '아르고', 'english_name': 'Aergo'}, {'market': 'BTC-PI', 'korean_name': '피체인', 'english_name': 'PCHAIN'}, {'market': 'KRW-AERGO', 'korean_name': '아르고', 'english_name': 'Aergo'}, {'market': 'KRW-ATOM', 'korean_name': '코스모스', 'english_name': 'Cosmos'}, {'market': 'KRW-TT', 'korean_name': '썬더토큰', 'english_name': 'Thunder Token'}, {'market': 'KRW-CRE', 'korean_name': '캐리프로토콜', 'english_name': 'Carry Protocol'}, {'market': 'KRW-SOLVE', 'korean_name': '솔브케어', 'english_name': 'Solve.Care'}, {'market': 'BTC-ATOM', 'korean_name': '코스모스', 'english_name': 'Cosmos'}, {'market': 'BTC-STPT', 'korean_name': '에스티피', 'english_name': 'Standard Tokenization Protocol'}, {'market': 'KRW-MBL', 'korean_name': '무비블록', 'english_name': 'MovieBloc'}, {'market': 'BTC-LAMB', 'korean_name': '람다', 'english_name': 'Lambda'}, {'market': 'BTC-EOS', 'korean_name': '이오스', 'english_name': 'EOS'}, {'market': 'BTC-LUNA', 'korean_name': '루나', 'english_name': 'Luna'}, {'market': 'BTC-DAI', 'korean_name': '다이', 'english_name': 'Dai'}, {'market': 'BTC-MKR', 'korean_name': '메이커', 'english_name': 'Maker'}, {'market': 'BTC-BORA', 'korean_name': '보라', 'english_name': 'BORA'}, {'market': 'KRW-TSHP', 'korean_name': '트웰브쉽스', 'english_name': '12SHIPS'}, {'market': 'BTC-TSHP', 'korean_name': '트웰브쉽스', 'english_name': '12SHIPS'}, {'market': 'KRW-WAXP', 'korean_name': '왁스', 'english_name': 'WAX'}, {'market': 'BTC-WAXP', 'korean_name': '왁스', 'english_name': 'WAX'}, {'market': 'KRW-HBAR', 'korean_name': '헤데라해시그래프', 'english_name': 'Hedera Hashgraph'}, {'market': 'KRW-MED', 'korean_name': '메디블록', 'english_name': 'MediBloc'}, {'market': 'BTC-MED', 'korean_name': '메디블록', 'english_name': 'MediBloc'}, {'market': 'BTC-MLK', 'korean_name': '밀크', 'english_name': 'MiL.k'}, {'market': 'KRW-MLK', 'korean_name': '밀크', 'english_name': 'MiL.k'}, {'market': 'BTC-PXL', 'korean_name': '픽셀', 'english_name': 'PIXEL'}, {'market': 'KRW-STPT', 'korean_name': '에스티피', 'english_name': 'Standard Tokenization Protocol'}, {'market': 'BTC-VET', 'korean_name': '비체인', 'english_name': 'VeChain'}, {'market': 'KRW-ORBS', 'korean_name': '오브스', 'english_name': 'Orbs'}, {'market': 'BTC-CHZ', 'korean_name': '칠리즈', 'english_name': 'Chiliz'}, {'market': 'KRW-VET', 'korean_name': '비체인', 'english_name': 'VeChain'}, {'market': 'BTC-FX', 'korean_name': '펑션엑스', 'english_name': 'Function X'}, {'market': 'BTC-OGN', 'korean_name': '오리진프로토콜', 'english_name': 'Origin Protocol'}, {'market': 'KRW-CHZ', 'korean_name': '칠리즈', 'english_name': 'Chiliz'}, {'market': 'KRW-PXL', 'korean_name': '픽셀', 'english_name': 'PIXEL'}, {'market': 'BTC-ITAM', 'korean_name': '아이텀게임즈', 'english_name': 'Itam Games'}, {'market': 'BTC-XTZ', 'korean_name': '테조스', 'english_name': 'Tezos'}, {'market': 'BTC-HIVE', 'korean_name': '하이브', 'english_name': 'Hive'}, {'market': 'BTC-HBD', 'korean_name': '하이브달러', 'english_name': 'Hive Dollar'}, {'market': 'BTC-OBSR', 'korean_name': '옵저버', 'english_name': 'Observer'}, {'market': 'BTC-DKA', 'korean_name': '디카르고', 'english_name': 'dKargo'}, {'market': 'KRW-STMX', 'korean_name': '스톰엑스', 'english_name': 'StormX'}, {'market': 'BTC-STMX', 'korean_name': '스톰엑스', 'english_name': 'StormX'}, {'market': 'BTC-AHT', 'korean_name': '아하토큰', 'english_name': 'AhaToken'}, {'market': 'BTC-PCI', 'korean_name': '페이코인', 'english_name': 'PayCoin'}, {'market': 'BTC-RINGX', 'korean_name': '링엑스', 'english_name': 'RINGX'}, {'market': 'BTC-GOM2', 'korean_name': '고머니2', 'english_name': 'GoMoney2'}, {'market': 'KRW-DKA', 'korean_name': '디카르고', 'english_name': 'dKargo'}, {'market': 'BTC-LINK', 'korean_name': '체인링크', 'english_name': 'Chainlink'}, {'market': 'KRW-HIVE', 'korean_name': '하이브', 'english_name': 'Hive'}, {'market': 'KRW-KAVA', 'korean_name': '카바', 'english_name': 'Kava'}, {'market': 'BTC-KAVA', 'korean_name': '카바', 'english_name': 'Kava'}, {'market': 'KRW-AHT', 'korean_name': '아하토큰', 'english_name': 'AhaToken'}, {'market': 'KRW-SPND', 'korean_name': '스펜드코인', 'english_name': 'Spendcoin'}, {'market': 'KRW-LINK', 'korean_name': '체인링크', 'english_name': 'Chainlink'}, {'market': 'KRW-XTZ', 'korean_name': '테조스', 'english_name': 'Tezos'}, {'market': 'KRW-BORA', 'korean_name': '보라', 'english_name': 'BORA'}, {'market': 'BTC-JST', 'korean_name': '저스트', 'english_name': 'JUST'}, {'market': 'BTC-CHR', 'korean_name': '크로미아', 'english_name': 'Chromia'}, {'market': 'BTC-DAD', 'korean_name': '다드', 'english_name': 'DAD'}, {'market': 'BTC-TON', 'korean_name': '톤', 'english_name': 'TON'}, {'market': 'KRW-JST', 'korean_name': '저스트', 'english_name': 'JUST'}, {'market': 'BTC-CTSI', 'korean_name': '카르테시', 'english_name': 'Cartesi'}, {'market': 'BTC-DOT', 'korean_name': '폴카닷', 'english_name': 'Polkadot'}, {'market': 'KRW-CRO', 'korean_name': '크립토닷컴체인', 'english_name': 'Crypto.com Chain'}, {'market': 'BTC-COMP', 'korean_name': '컴파운드', 'english_name': 'Compound'}, {'market': 'BTC-SXP', 'korean_name': '스와이프', 'english_name': 'Swipe'}, {'market': 'BTC-HUNT', 'korean_name': '헌트', 'english_name': 'HUNT'}, {'market': 'KRW-TON', 'korean_name': '톤', 'english_name': 'TON'}, {'market': 'BTC-ONIT', 'korean_name': '온버프', 'english_name': 'ONBUFF'}, {'market': 'BTC-CRV', 'korean_name': '커브', 'english_name': 'Curve'}, {'market': 'BTC-ALGO', 'korean_name': '알고랜드', 'english_name': 'Algorand'}, {'market': 'BTC-RSR', 'korean_name': '리저브라이트', 'english_name': 'Reserve Rights'}, {'market': 'KRW-SXP', 'korean_name': '스와이프', 'english_name': 'Swipe'}, {'market': 'BTC-OXT', 'korean_name': '오키드', 'english_name': 'Orchid'}, {'market': 'BTC-PLA', 'korean_name': '플레이댑', 'english_name': 'PlayDapp'}, {'market': 'KRW-LAMB', 'korean_name': '람다', 'english_name': 'Lambda'}, {'market': 'KRW-HUNT', 'korean_name': '헌트', 'english_name': 'HUNT'}, {'market': 'BTC-MARO', 'korean_name': '마로', 'english_name': 'Maro'}, {'market': 'KRW-MARO', 'korean_name': '마로', 'english_name': 'Maro'}, {'market': 'BTC-SAND', 'korean_name': '샌드박스', 'english_name': 'The Sandbox'}, {'market': 'BTC-SUN', 'korean_name': '썬', 'english_name': 'SUN'}, {'market': 'KRW-PLA', 'korean_name': '플레이댑', 'english_name': 'PlayDapp'}, {'market': 'KRW-DOT', 'korean_name': '폴카닷', 'english_name': 'Polkadot'}, {'market': 'BTC-SRM', 'korean_name': '세럼', 'english_name': 'Serum'}, {'market': 'BTC-QTCON', 'korean_name': '퀴즈톡', 'english_name': 'Quiztok'}, {'market': 'BTC-MVL', 'korean_name': '엠블', 'english_name': 'MVL'}, {'market': 'KRW-SRM', 'korean_name': '세럼', 'english_name': 'Serum'}, {'market': 'KRW-MVL', 'korean_name': '엠블', 'english_name': 'MVL'}, {'market': 'BTC-GXC', 'korean_name': '지엑스체인', 'english_name': 'GXChain'}, {'market': 'KRW-PCI', 'korean_name': '페이코인', 'english_name': 'PayCoin'}, {'market': 'BTC-AQT', 'korean_name': '알파쿼크', 'english_name': 'Alpha Quark Token'}, {'market': 'BTC-AXS', 'korean_name': '엑시인피니티', 'english_name': 'Axie Infinity'}, {'market': 'BTC-STRAX', 'korean_name': '스트라티스', 'english_name': 'Stratis'}, {'market': 'KRW-STRAX', 'korean_name': '스트라티스', 'english_name': 'Stratis'}, {'market': 'KRW-AQT', 'korean_name': '알파쿼크', 'english_name': 'Alpha Quark Token'}, {'market': 'BTC-BCHA', 'korean_name': '비트코인캐시에이비씨', 'english_name': 'Bitcoin Cash ABC'}, {'market': 'KRW-BCHA', 'korean_name': '비트코인캐시에이비씨', 'english_name': 'Bitcoin Cash ABC'}, {'market': 'BTC-GLM', 'korean_name': '골렘', 'english_name': 'Golem'}, {'market': 'KRW-GLM', 'korean_name': '골렘', 'english_name': 'Golem'}, {'market': 'KRW-QTCON', 'korean_name': '퀴즈톡', 'english_name': 'Quiztok'}, {'market': 'BTC-FCT2', 'korean_name': '피르마체인', 'english_name': 'FirmaChain'}, {'market': 'BTC-SSX', 'korean_name': '썸씽', 'english_name': 'SOMESING'}, {'market': 'KRW-SSX', 'korean_name': '썸씽', 'english_name': 'SOMESING'}, {'market': 'KRW-META', 'korean_name': '메타디움', 'english_name': 'Metadium'}, {'market': 'KRW-OBSR', 'korean_name': '옵저버', 'english_name': 'Observer'}, {'market': 'KRW-FCT2', 'korean_name': '피르마체인', 'english_name': 'FirmaChain'}, {'market': 'BTC-FIL', 'korean_name': '파일코인', 'english_name': 'Filecoin'}, {'market': 'KRW-LBC', 'korean_name': '엘비알와이크레딧', 'english_name': 'LBRY Credits'}, {'market': 'BTC-UNI', 'korean_name': '유니스왑', 'english_name': 'Uniswap'}, {'market': 'BTC-BASIC', 'korean_name': '베이직', 'english_name': 'Basic'}, {'market': 'BTC-INJ', 'korean_name': '인젝티브프로토콜', 'english_name': 'Injective Protocol'}, {'market': 'BTC-PROM', 'korean_name': '프로메테우스', 'english_name': 'Prometeus'}, {'market': 'BTC-VAL', 'korean_name': '밸리디티', 'english_name': 'Validity'}, {'market': 'BTC-PSG', 'korean_name': '파리생제르맹', 'english_name': 'Paris Saint-Germain Fan Token'}, {'market': 'BTC-JUV', 'korean_name': '유벤투스', 'english_name': 'Juventus Fan Token'}, {'market': 'BTC-CBK', 'korean_name': '코박토큰', 'english_name': 'Cobak Token'}, {'market': 'BTC-FOR', 'korean_name': '포튜브', 'english_name': 'ForTube'}, {'market': 'KRW-CBK', 'korean_name': '코박토큰', 'english_name': 'Cobak Token'}, {'market': 'BTC-BFC', 'korean_name': '바이프로스트', 'english_name': 'Bifrost'}, {'market': 'BTC-LINA', 'korean_name': '리니어파이낸스', 'english_name': 'Linear'}, {'market': 'BTC-HUM', 'korean_name': '휴먼스케이프', 'english_name': 'Humanscape'}, {'market': 'BTC-PICA', 'korean_name': '피카', 'english_name': 'Pica'}, {'market': 'BTC-CELO', 'korean_name': '셀로', 'english_name': 'Celo'}, {'market': 'KRW-SAND', 'korean_name': '샌드박스', 'english_name': 'The Sandbox'}, {'market': 'KRW-HUM', 'korean_name': '휴먼스케이프', 'english_name': 'Humanscape'}, {'market': 'BTC-IQ', 'korean_name': '에브리피디아', 'english_name': 'Everipedia'}]\n"
     ]
    }
   ]
  },
  {
   "cell_type": "code",
   "execution_count": 136,
   "metadata": {},
   "outputs": [
    {
     "output_type": "stream",
     "name": "stdout",
     "text": [
      "avg score : 940.5848926447807 2247.685904426096\n2 2021-02-07T00:12:00 02/07 00:15:00 2.0 473.0 0.42283298097251587 2912213.39874642\n9 2021-02-06T23:51:00 02/06 23:54:00 4.0 473.0 0.8456659619450317 5278907.09351184\n62 2021-02-06T21:12:00 02/06 21:15:07 4.0 463.0 0.8639308855291578 3078385.73800484\n72 2021-02-06T20:42:00 02/06 20:44:59 2.0 469.0 0.42643923240938164 2472939.56479021\n73 2021-02-06T20:39:00 02/06 20:41:59 4.0 471.0 0.8492569002123143 3497321.60530839\n82 2021-02-06T20:12:00 02/06 20:14:59 2.0 467.0 0.4282655246252677 2264452.91235247\n191 2021-02-06T14:45:00 02/06 14:47:58 3.0 470.0 0.6382978723404255 3666489.17472251\n"
     ]
    }
   ],
   "source": [
    "# 분 켄들 조회\n",
    "import requests\n",
    "import json\n",
    "import datetime\n",
    "import math\n",
    "import numpy as np\n",
    "\n",
    "url = \"https://api.upbit.com/v1/candles/minutes/3\"\n",
    "\n",
    "get_count = 200\n",
    "#querystring = {\"market\":\"KRW-XRP\",\"to\":\"2021-02-05T00:00:00Z\", \"count\": str(get_count)}\n",
    "querystring = {\"market\":\"KRW-XRP\",\"count\":get_count}\n",
    "\n",
    "response = requests.request(\"GET\", url, params=querystring)\n",
    "#print(response.text)\n",
    "result = json.loads(response.text)\n",
    "\n",
    "scores = []\n",
    "for i in range(0, get_count):\n",
    "    item = result[i]\n",
    "    cur_time = datetime.datetime.fromtimestamp(item[\"timestamp\"]/1000)\n",
    "    gap = math.fabs(item[\"opening_price\"] - item[\"trade_price\"])\n",
    "    #gap = item[\"high_price\"] - item[\"low_price\"]\n",
    "    prev_volume = 0\n",
    "    #if i < (get_count-1):\n",
    "    #    prev_volume = result[i+1][\"candle_acc_trade_volume\"]\n",
    "    gap_volume = math.fabs(item[\"candle_acc_trade_volume\"] - prev_volume)\n",
    "    diff_score = (gap if gap > 0.0 else 0.1) * (gap_volume * 0.001)\n",
    "    scores.append(diff_score)\n",
    "\n",
    "    #print(i, item[\"candle_date_time_kst\"], cur_time.strftime(\"%m/%d %H:%M:%S\"), gap, item[\"trade_price\"], item[\"candle_acc_trade_volume\"], \n",
    "    #    int(gap_volume), int(diff_score))\n",
    "\n",
    "scores = np.array(scores)\n",
    "std = np.std(scores)\n",
    "avg =  np.average(scores)\n",
    "\n",
    "print('avg score :', avg, std)\n",
    "\n",
    "std_diff = scores - std\n",
    "idxs = np.where(std_diff > std)\n",
    "for i in idxs[0]:\n",
    "    item = result[i]\n",
    "    cur_time = datetime.datetime.fromtimestamp(item[\"timestamp\"]/1000)\n",
    "    gap = math.fabs(item[\"opening_price\"] - item[\"trade_price\"])\n",
    "    #gap = item[\"high_price\"] - item[\"low_price\"]\n",
    "\n",
    "    print(i, item[\"candle_date_time_kst\"], cur_time.strftime(\"%m/%d %H:%M:%S\"), gap, item[\"trade_price\"], gap / item[\"trade_price\"] * 100, item[\"candle_acc_trade_volume\"])\n",
    "\n",
    "#print('sort:', np.sort(std_diff))\n"
   ]
  },
  {
   "cell_type": "code",
   "execution_count": 125,
   "metadata": {},
   "outputs": [
    {
     "output_type": "stream",
     "name": "stdout",
     "text": [
      "36 2021-02-06T21:10:00 02/06 21:15:07 5.0 463.0 1.079913606911447 3801867.10145222\n159 2021-02-06T10:55:00 02/06 11:00:00 5.0 462.0 1.0822510822510822 9017688.60796993\n160 2021-02-06T10:50:00 02/06 10:55:00 6.0 457.0 1.312910284463895 17208749.90240401\n161 2021-02-06T10:45:00 02/06 10:49:59 4.0 463.0 0.8639308855291578 8320409.19783528\n164 2021-02-06T10:30:00 02/06 10:34:59 3.0 467.0 0.6423982869379015 7207806.84094944\n"
     ]
    }
   ],
   "source": [
    "idxs = np.where(std_diff > 100000)\n",
    "for i in idxs[0]:\n",
    "    item = result[i]\n",
    "    cur_time = datetime.datetime.fromtimestamp(item[\"timestamp\"]/1000)\n",
    "    gap = math.fabs(item[\"opening_price\"] - item[\"trade_price\"])\n",
    "    #gap = item[\"high_price\"] - item[\"low_price\"]\n",
    "\n",
    "    print(i, item[\"candle_date_time_kst\"], cur_time.strftime(\"%m/%d %H:%M:%S\"), gap, item[\"trade_price\"], gap / item[\"trade_price\"] * 100, item[\"candle_acc_trade_volume\"])\n"
   ]
  },
  {
   "cell_type": "code",
   "execution_count": 12,
   "metadata": {},
   "outputs": [
    {
     "output_type": "stream",
     "name": "stdout",
     "text": [
      "[{\"market\": \"KRW-XRP\", \"trade_date\": \"20210205\", \"trade_time\": \"160959\", \"trade_date_kst\": \"20210206\", \"trade_time_kst\": \"010959\", \"trade_timestamp\": 1612541399000, \"opening_price\": 481.0, \"high_price\": 508.0, \"low_price\": 454.0, \"trade_price\": 488.0, \"prev_closing_price\": 481.0, \"change\": \"RISE\", \"change_price\": 7.0, \"change_rate\": 0.0145530146, \"signed_change_price\": 7.0, \"signed_change_rate\": 0.0145530146, \"trade_volume\": 11.02459016, \"acc_trade_price\": 454588773309.55804, \"acc_trade_price_24h\": 850287008343.7313, \"acc_trade_volume\": 951089244.7500465, \"acc_trade_volume_24h\": 1788767953.1521726, \"highest_52_week_price\": 859.0, \"highest_52_week_date\": \"2020-11-24\", \"lowest_52_week_price\": 155.0, \"lowest_52_week_date\": \"2020-03-13\", \"timestamp\": 1612541399611}]\n488.0 RISE\n"
     ]
    }
   ],
   "source": [
    "# 현 시세 조회\n",
    "import requests\n",
    "import json\n",
    "\n",
    "url = \"https://api.upbit.com/v1/ticker\"\n",
    "querystring = {\"markets\":\"KRW-XRP\"}\n",
    "response = requests.request(\"GET\", url, params=querystring)\n",
    "result = json.loads(response.text)\n",
    "print(json.dumps(result))\n",
    "print(result[0][\"trade_price\"], result[0][\"change\"])"
   ]
  },
  {
   "cell_type": "code",
   "execution_count": 13,
   "metadata": {},
   "outputs": [
    {
     "output_type": "stream",
     "name": "stdout",
     "text": [
      "[{'update_id': 131941975, 'message': {'message_id': 11, 'from': {'id': 1693965788, 'is_bot': False, 'first_name': 'ksjin'}, 'chat': {'id': 1693965788, 'first_name': 'ksjin', 'type': 'private'}, 'date': 1612766081, 'text': '/start', 'entities': [{'offset': 0, 'length': 6, 'type': 'bot_command'}]}}, {'update_id': 131941976, 'message': {'message_id': 13, 'from': {'id': 1693965788, 'is_bot': False, 'first_name': 'ksjin', 'language_code': 'ko'}, 'chat': {'id': 1693965788, 'first_name': 'ksjin', 'type': 'private'}, 'date': 1612779166, 'text': '/'}}, {'update_id': 131941977, 'message': {'message_id': 14, 'from': {'id': 1693965788, 'is_bot': False, 'first_name': 'ksjin', 'language_code': 'ko'}, 'chat': {'id': 1693965788, 'first_name': 'ksjin', 'type': 'private'}, 'date': 1612779205, 'text': '/start', 'entities': [{'offset': 0, 'length': 6, 'type': 'bot_command'}]}}, {'update_id': 131941978, 'message': {'message_id': 15, 'from': {'id': 1693965788, 'is_bot': False, 'first_name': 'ksjin', 'language_code': 'ko'}, 'chat': {'id': 1693965788, 'first_name': 'ksjin', 'type': 'private'}, 'date': 1612780295, 'text': '/start', 'entities': [{'offset': 0, 'length': 6, 'type': 'bot_command'}]}}, {'update_id': 131941979, 'message': {'message_id': 16, 'from': {'id': 1693965788, 'is_bot': False, 'first_name': 'ksjin', 'language_code': 'ko'}, 'chat': {'id': 1693965788, 'first_name': 'ksjin', 'type': 'private'}, 'date': 1612783482, 'text': '/start', 'entities': [{'offset': 0, 'length': 6, 'type': 'bot_command'}]}}, {'update_id': 131941980, 'message': {'message_id': 18, 'from': {'id': 547008236, 'is_bot': False, 'first_name': 'Jeffrey', 'last_name': 'Im', 'language_code': 'en'}, 'chat': {'id': 547008236, 'first_name': 'Jeffrey', 'last_name': 'Im', 'type': 'private'}, 'date': 1612789417, 'text': '/start', 'entities': [{'offset': 0, 'length': 6, 'type': 'bot_command'}]}}, {'update_id': 131941981, 'message': {'message_id': 21, 'from': {'id': 1605321409, 'is_bot': False, 'first_name': 'Grek', 'language_code': 'ko'}, 'chat': {'id': 1605321409, 'first_name': 'Grek', 'type': 'private'}, 'date': 1612793471, 'text': '/start', 'entities': [{'offset': 0, 'length': 6, 'type': 'bot_command'}]}}, {'update_id': 131941982, 'message': {'message_id': 23, 'from': {'id': 1605321409, 'is_bot': False, 'first_name': 'Grek', 'language_code': 'ko'}, 'chat': {'id': 1605321409, 'first_name': 'Grek', 'type': 'private'}, 'date': 1612794597, 'text': '/start', 'entities': [{'offset': 0, 'length': 6, 'type': 'bot_command'}]}}, {'update_id': 131941983, 'message': {'message_id': 24, 'from': {'id': 1605321409, 'is_bot': False, 'first_name': 'Grek', 'language_code': 'ko'}, 'chat': {'id': 1605321409, 'first_name': 'Grek', 'type': 'private'}, 'date': 1612794614, 'text': 'Hi'}}, {'update_id': 131941984, 'message': {'message_id': 25, 'from': {'id': 678478220, 'is_bot': False, 'first_name': 'OiOiOi', 'username': 'OiNG_T', 'language_code': 'ko'}, 'chat': {'id': 678478220, 'first_name': 'OiOiOi', 'username': 'OiNG_T', 'type': 'private'}, 'date': 1612794658, 'text': '하잉'}}, {'update_id': 131941985, 'message': {'message_id': 26, 'from': {'id': 1605321409, 'is_bot': False, 'first_name': 'Grek', 'language_code': 'ko'}, 'chat': {'id': 1605321409, 'first_name': 'Grek', 'type': 'private'}, 'date': 1612794663, 'text': '리플'}}, {'update_id': 131941986, 'message': {'message_id': 28, 'from': {'id': 1605321409, 'is_bot': False, 'first_name': 'Grek', 'language_code': 'ko'}, 'chat': {'id': 1605321409, 'first_name': 'Grek', 'type': 'private'}, 'date': 1612795838, 'text': '/start', 'entities': [{'offset': 0, 'length': 6, 'type': 'bot_command'}]}}]\n"
     ]
    }
   ],
   "source": [
    "# telegram bot api test\n",
    "import requests\n",
    "\n",
    "url = \"https://api.telegram.org/bot1640815585:AAHancwBwckiHtRFTc2g78akroVDYTtU1E4/getUpdates\"\n",
    "response = requests.request(\"GET\", url)\n",
    "updates = response.json()\n",
    "print(updates[\"result\"])\n"
   ]
  },
  {
   "cell_type": "code",
   "execution_count": 14,
   "metadata": {},
   "outputs": [
    {
     "output_type": "stream",
     "name": "stdout",
     "text": [
      "{547008236, 1605321409, 1693965788, 678478220}\n"
     ]
    }
   ],
   "source": [
    "idlist = set()\n",
    "for msg in updates[\"result\"]:\n",
    "    idlist.add(msg[\"message\"][\"chat\"][\"id\"])\n",
    "print(idlist)    \n",
    "\n",
    "#print(updates[\"result\"][0][\"message\"][\"chat\"])"
   ]
  },
  {
   "cell_type": "code",
   "execution_count": 18,
   "metadata": {},
   "outputs": [
    {
     "output_type": "stream",
     "name": "stdout",
     "text": [
      "466.0\n"
     ]
    }
   ],
   "source": [
    "# 분 켄들 조회\n",
    "import requests\n",
    "import json\n",
    "import datetime\n",
    "import math\n",
    "import numpy as np\n",
    "\n",
    "# ripple\n",
    "target_markget = \"KRW-XRP\"\n",
    "total_minutes = 10\n",
    "\n",
    "def GetMinutesData(market, count=20):\n",
    "    url = \"https://api.upbit.com/v1/candles/minutes/1\"\n",
    "    #querystring = {\"market\":\"KRW-XRP\",\"to\":\"2021-02-05T00:00:00Z\", \"count\": str(get_count)}\n",
    "    querystring = {\"market\":market,\"count\":count}\n",
    "    response = requests.request(\"GET\", url, params=querystring)\n",
    "    if response.status_code == 200:\n",
    "        return response.json()\n",
    "    \n",
    "    #print(response.text)\n",
    "\n",
    "    return None\n",
    "\n",
    "def GetCurrentPrice(market):\n",
    "    url = \"https://api.upbit.com/v1/ticker\"\n",
    "    querystring = {\"markets\":market}\n",
    "    response = requests.request(\"GET\", url, params=querystring)\n",
    "    if response.status_code != 200:\n",
    "        return None, None\n",
    "\n",
    "    result = response.json()\n",
    "\n",
    "    #print(json.dumps(result))\n",
    "    #print(result[0][\"trade_price\"], result[0][\"change\"])\n",
    "    cur_time = datetime.datetime.fromtimestamp(result[0][\"timestamp\"]/1000)\n",
    "\n",
    "    return cur_time, result[0][\"trade_price\"]\n",
    "\n",
    "\n",
    "mins_datas = GetMinutesData(target_markget, total_minutes)\n",
    "cur_time, cur_price = GetCurrentPrice(target_markget)\n",
    "\n",
    "#print(mins_datas)\n",
    "#print(cur_price)\n",
    "\n",
    "alert_percent = 0.01\n",
    "for item in mins_datas:\n",
    "    item_time = datetime.datetime.fromtimestamp(item[\"timestamp\"]/1000)\n",
    "    diff_time = cur_time - item_time\n",
    "    if diff_time.total_seconds() < 59:\n",
    "        continue\n",
    "\n",
    "    trade_price = item[\"trade_price\"]\n",
    "    diff_price = cur_price - trade_price\n",
    "\n",
    "    percent = math.fabs(diff_price) / trade_price\n",
    "\n",
    "    if percent > alert_percent:\n",
    "        # alert\n",
    "        print(f'{diff_time} {trade_price}/{diff_price} {percent * 100:0.2f}')\n",
    "        break\n",
    "\n",
    "    #print(i, item[\"candle_date_time_kst\"], cur_time.strftime(\"%m/%d %H:%M:%S\"), gap, item[\"trade_price\"], gap / item[\"trade_price\"] * 100, item[\"candle_acc_trade_volume\"])\n",
    "\n",
    "#print(price_volumes)"
   ]
  },
  {
   "cell_type": "code",
   "execution_count": 2,
   "metadata": {},
   "outputs": [
    {
     "output_type": "stream",
     "name": "stdout",
     "text": [
      "{547008236, 1605321409, 1693965788, 678478220}\n",
      "SendMessage is successed\n",
      "{'ok': True, 'result': {'message_id': 31, 'from': {'id': 1640815585, 'is_bot': True, 'first_name': 'oioioi', 'username': 'oioioinoti_bot'}, 'chat': {'id': 547008236, 'first_name': 'Jeffrey', 'last_name': 'Im', 'type': 'private'}, 'date': 1612798520, 'text': '안녕~! 테스트임다'}}\n",
      "SendMessage is successed\n",
      "{'ok': True, 'result': {'message_id': 32, 'from': {'id': 1640815585, 'is_bot': True, 'first_name': 'oioioi', 'username': 'oioioinoti_bot'}, 'chat': {'id': 1605321409, 'first_name': 'Grek', 'type': 'private'}, 'date': 1612798521, 'text': '안녕~! 테스트임다'}}\n",
      "SendMessage is successed\n",
      "{'ok': True, 'result': {'message_id': 33, 'from': {'id': 1640815585, 'is_bot': True, 'first_name': 'oioioi', 'username': 'oioioinoti_bot'}, 'chat': {'id': 1693965788, 'first_name': 'ksjin', 'type': 'private'}, 'date': 1612798523, 'text': '안녕~! 테스트임다'}}\n",
      "SendMessage is successed\n",
      "{'ok': True, 'result': {'message_id': 34, 'from': {'id': 1640815585, 'is_bot': True, 'first_name': 'oioioi', 'username': 'oioioinoti_bot'}, 'chat': {'id': 678478220, 'first_name': 'OiOiOi', 'username': 'OiNG_T', 'type': 'private'}, 'date': 1612798524, 'text': '안녕~! 테스트임다'}}\n"
     ]
    }
   ],
   "source": [
    "from telegram_api import SendMessage\n",
    "\n",
    "SendMessage(\"API 설정 실수로 저한테만 메시지를 보내고 있었네요 ㅋㅋ\")"
   ]
  },
  {
   "cell_type": "code",
   "execution_count": null,
   "metadata": {},
   "outputs": [],
   "source": []
  }
 ]
}